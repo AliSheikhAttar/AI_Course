{
  "cells": [
    {
      "cell_type": "markdown",
      "metadata": {
        "id": "nV00umqIz3ZH"
      },
      "source": [
        "![0.jfif](attachment:0.jfif)"
      ]
    },
    {
      "cell_type": "markdown",
      "metadata": {
        "id": "uGhIgZvwz3ZK"
      },
      "source": [
        "<div style=\"direction:rtl\">\n",
        "خب خب، درسته که نامپای ستون فقرات دیتا ساینیه، ولی ما کارامون رو با دست و چشم و پا انجام میدیم نه با خود ستون فقرات. برای همین تو این بخش زیاد تمرینای از جنس مساله نداریم و بیشتر تمرینامون حول تسلط به ابزار ها و متد های این کتابخونه است.\n",
        "<div style=\"direction:rtl\">\n",
        "برای شروع، کتابخونه ی نامپای رو ایمپورت کنید."
      ]
    },
    {
      "cell_type": "code",
      "execution_count": 1,
      "metadata": {
        "id": "BWesnv91z3ZL"
      },
      "outputs": [],
      "source": [
        "import numpy as np"
      ]
    },
    {
      "cell_type": "markdown",
      "metadata": {
        "id": "M62azaM_z3ZL"
      },
      "source": [
        "<div style=\"direction:rtl\">\n",
        "یه آرایه ی متشکل از 10 تا صفر بسازید."
      ]
    },
    {
      "cell_type": "code",
      "execution_count": 2,
      "metadata": {
        "colab": {
          "base_uri": "https://localhost:8080/"
        },
        "id": "8z7zRLkwz3ZM",
        "outputId": "a902b31f-ee9f-4eb0-c852-b5cda58206fd"
      },
      "outputs": [
        {
          "output_type": "execute_result",
          "data": {
            "text/plain": [
              "array([0., 0., 0., 0., 0., 0., 0., 0., 0., 0.])"
            ]
          },
          "metadata": {},
          "execution_count": 2
        }
      ],
      "source": [
        "np.zeros(10)"
      ]
    },
    {
      "cell_type": "markdown",
      "metadata": {
        "id": "KHPEi9Jxz3ZN"
      },
      "source": [
        "<div style=\"direction:rtl\">\n",
        "یه آرایه ی متشکل از 10 تا یک بسازید."
      ]
    },
    {
      "cell_type": "code",
      "execution_count": 3,
      "metadata": {
        "colab": {
          "base_uri": "https://localhost:8080/"
        },
        "id": "qp_H_L0wz3ZN",
        "outputId": "67ab564b-98ad-47dd-89b8-1ae4a19fe9bc"
      },
      "outputs": [
        {
          "output_type": "execute_result",
          "data": {
            "text/plain": [
              "array([1., 1., 1., 1., 1., 1., 1., 1., 1., 1.])"
            ]
          },
          "metadata": {},
          "execution_count": 3
        }
      ],
      "source": [
        "np.ones(10)"
      ]
    },
    {
      "cell_type": "markdown",
      "metadata": {
        "id": "RuqUrJlBz3ZN"
      },
      "source": [
        "<div style=\"direction:rtl\">\n",
        "یه آرایه ی متشکل از 10 تا پنج بسازید."
      ]
    },
    {
      "cell_type": "code",
      "execution_count": 5,
      "metadata": {
        "colab": {
          "base_uri": "https://localhost:8080/"
        },
        "id": "cEkQijp1z3ZO",
        "outputId": "e62e73e8-af65-479f-fac9-a11243455fbe"
      },
      "outputs": [
        {
          "output_type": "execute_result",
          "data": {
            "text/plain": [
              "array([5., 5., 5., 5., 5., 5., 5., 5., 5., 5.])"
            ]
          },
          "metadata": {},
          "execution_count": 5
        }
      ],
      "source": [
        "np.ones(10)*5"
      ]
    },
    {
      "cell_type": "markdown",
      "metadata": {
        "id": "C1f0MVOWz3ZO"
      },
      "source": [
        "<div style=\"direction:rtl\">\n",
        "یه آرایه ی متشکل از اعداد ده تا پنجاه بسازید."
      ]
    },
    {
      "cell_type": "code",
      "execution_count": 6,
      "metadata": {
        "colab": {
          "base_uri": "https://localhost:8080/"
        },
        "id": "pKvITw1nz3ZP",
        "outputId": "59f74351-e979-46ac-d41b-c233960b4f41"
      },
      "outputs": [
        {
          "output_type": "execute_result",
          "data": {
            "text/plain": [
              "array([10, 11, 12, 13, 14, 15, 16, 17, 18, 19, 20, 21, 22, 23, 24, 25, 26,\n",
              "       27, 28, 29, 30, 31, 32, 33, 34, 35, 36, 37, 38, 39, 40, 41, 42, 43,\n",
              "       44, 45, 46, 47, 48, 49, 50])"
            ]
          },
          "metadata": {},
          "execution_count": 6
        }
      ],
      "source": [
        "np.arange(10, 51)"
      ]
    },
    {
      "cell_type": "markdown",
      "metadata": {
        "id": "k8uNmwyFz3ZP"
      },
      "source": [
        "<div style=\"direction:rtl\">\n",
        "یه آرایه ی متشکل از اعداد زوج بین ده تا پنجاه بسازید."
      ]
    },
    {
      "cell_type": "code",
      "execution_count": 7,
      "metadata": {
        "colab": {
          "base_uri": "https://localhost:8080/"
        },
        "id": "KFgNn8xtz3ZP",
        "outputId": "e3f53b55-e89e-49c4-d1b0-f57bf6992261"
      },
      "outputs": [
        {
          "output_type": "execute_result",
          "data": {
            "text/plain": [
              "array([10, 12, 14, 16, 18, 20, 22, 24, 26, 28, 30, 32, 34, 36, 38, 40, 42,\n",
              "       44, 46, 48, 50])"
            ]
          },
          "metadata": {},
          "execution_count": 7
        }
      ],
      "source": [
        "np.arange(10, 51, 2)"
      ]
    },
    {
      "cell_type": "markdown",
      "metadata": {
        "id": "mWikbM1ez3ZP"
      },
      "source": [
        "<div style=\"direction:rtl\">\n",
        "یه ماتریس سه در سه با مقادیر 0 تا 8 بسازید."
      ]
    },
    {
      "cell_type": "code",
      "execution_count": 8,
      "metadata": {
        "colab": {
          "base_uri": "https://localhost:8080/"
        },
        "id": "CL_qBXrrz3ZQ",
        "outputId": "1b8da625-f244-4ea4-b5c2-fc7b0e4b0381"
      },
      "outputs": [
        {
          "output_type": "execute_result",
          "data": {
            "text/plain": [
              "array([[0, 1, 2],\n",
              "       [3, 4, 5],\n",
              "       [6, 7, 8]])"
            ]
          },
          "metadata": {},
          "execution_count": 8
        }
      ],
      "source": [
        "np.arange(0, 9).reshape(3, 3)"
      ]
    },
    {
      "cell_type": "markdown",
      "metadata": {
        "id": "f3rc85Jpz3ZQ"
      },
      "source": [
        "<div style=\"direction:rtl\">\n",
        "یه ماتریس سه در سه قطری بسازید."
      ]
    },
    {
      "cell_type": "code",
      "execution_count": 9,
      "metadata": {
        "scrolled": true,
        "colab": {
          "base_uri": "https://localhost:8080/"
        },
        "id": "Xt1nqtFaz3ZQ",
        "outputId": "0e8f03cd-daca-439d-fb47-8a924229e635"
      },
      "outputs": [
        {
          "output_type": "execute_result",
          "data": {
            "text/plain": [
              "array([[1., 0., 0.],\n",
              "       [0., 1., 0.],\n",
              "       [0., 0., 1.]])"
            ]
          },
          "metadata": {},
          "execution_count": 9
        }
      ],
      "source": [
        "np.eye(3)"
      ]
    },
    {
      "cell_type": "markdown",
      "metadata": {
        "id": "oRU8HM6Bz3ZQ"
      },
      "source": [
        "<div style=\"direction:rtl\">\n",
        "یه ماتریس سه در سه با اعداد رندوم بسازید."
      ]
    },
    {
      "cell_type": "code",
      "execution_count": 10,
      "metadata": {
        "colab": {
          "base_uri": "https://localhost:8080/"
        },
        "id": "0FBzFQQ0z3ZR",
        "outputId": "9a883a62-bd64-4cbc-ad45-ec03f273d649"
      },
      "outputs": [
        {
          "output_type": "execute_result",
          "data": {
            "text/plain": [
              "array([[0.83054607, 0.54946081, 0.98275919],\n",
              "       [0.26064054, 0.06783044, 0.34292666],\n",
              "       [0.47610584, 0.5706664 , 0.26814346]])"
            ]
          },
          "metadata": {},
          "execution_count": 10
        }
      ],
      "source": [
        "np.random.rand(3, 3)"
      ]
    },
    {
      "cell_type": "markdown",
      "metadata": {
        "id": "bZXvEBrQz3ZR"
      },
      "source": [
        "<div style=\"direction:rtl\">\n",
        "یه ماتریس سه در سه با اعداد رندومی بسازید که به شکل نرمال حول 0 توزیع شده باشند."
      ]
    },
    {
      "cell_type": "code",
      "execution_count": 11,
      "metadata": {
        "colab": {
          "base_uri": "https://localhost:8080/"
        },
        "id": "NgrSys7Vz3ZR",
        "outputId": "249b2f8a-e6a9-4192-eaec-8835e4f7a745"
      },
      "outputs": [
        {
          "output_type": "execute_result",
          "data": {
            "text/plain": [
              "array([[ 0.96799285, -0.33166593, -1.88796257],\n",
              "       [ 0.28811712, -1.05110084,  0.90887185],\n",
              "       [-1.28241661, -0.00272137,  0.3202054 ]])"
            ]
          },
          "metadata": {},
          "execution_count": 11
        }
      ],
      "source": [
        "np.random.randn(3, 3)"
      ]
    },
    {
      "cell_type": "markdown",
      "metadata": {
        "id": "sF3sFCaCz3ZR"
      },
      "source": [
        "<div style=\"direction:rtl\">\n",
        "با دو روش مختلف دقیقا ماتریس زیر رو بسازید."
      ]
    },
    {
      "cell_type": "code",
      "execution_count": 17,
      "metadata": {
        "colab": {
          "base_uri": "https://localhost:8080/"
        },
        "id": "HAFo55cMz3ZS",
        "outputId": "9a5b30bd-ef21-4868-c9e3-1e26398d48e1"
      },
      "outputs": [
        {
          "output_type": "execute_result",
          "data": {
            "text/plain": [
              "array([[0.01, 0.02, 0.03, 0.04, 0.05, 0.06, 0.07, 0.08, 0.09, 0.1 ],\n",
              "       [0.11, 0.12, 0.13, 0.14, 0.15, 0.16, 0.17, 0.18, 0.19, 0.2 ],\n",
              "       [0.21, 0.22, 0.23, 0.24, 0.25, 0.26, 0.27, 0.28, 0.29, 0.3 ],\n",
              "       [0.31, 0.32, 0.33, 0.34, 0.35, 0.36, 0.37, 0.38, 0.39, 0.4 ],\n",
              "       [0.41, 0.42, 0.43, 0.44, 0.45, 0.46, 0.47, 0.48, 0.49, 0.5 ],\n",
              "       [0.51, 0.52, 0.53, 0.54, 0.55, 0.56, 0.57, 0.58, 0.59, 0.6 ],\n",
              "       [0.61, 0.62, 0.63, 0.64, 0.65, 0.66, 0.67, 0.68, 0.69, 0.7 ],\n",
              "       [0.71, 0.72, 0.73, 0.74, 0.75, 0.76, 0.77, 0.78, 0.79, 0.8 ],\n",
              "       [0.81, 0.82, 0.83, 0.84, 0.85, 0.86, 0.87, 0.88, 0.89, 0.9 ],\n",
              "       [0.91, 0.92, 0.93, 0.94, 0.95, 0.96, 0.97, 0.98, 0.99, 1.  ]])"
            ]
          },
          "metadata": {},
          "execution_count": 17
        }
      ],
      "source": [
        "np.arange(0.01, 1.01, 0.01).reshape(10, 10)"
      ]
    },
    {
      "cell_type": "code",
      "execution_count": 19,
      "metadata": {
        "colab": {
          "base_uri": "https://localhost:8080/"
        },
        "id": "hOcpDhnsz3ZS",
        "outputId": "0d5ebc8c-5f29-43d2-9f41-87af9325f680"
      },
      "outputs": [
        {
          "output_type": "execute_result",
          "data": {
            "text/plain": [
              "array([[0.01, 0.02, 0.03, 0.04, 0.05, 0.06, 0.07, 0.08, 0.09, 0.1 ],\n",
              "       [0.11, 0.12, 0.13, 0.14, 0.15, 0.16, 0.17, 0.18, 0.19, 0.2 ],\n",
              "       [0.21, 0.22, 0.23, 0.24, 0.25, 0.26, 0.27, 0.28, 0.29, 0.3 ],\n",
              "       [0.31, 0.32, 0.33, 0.34, 0.35, 0.36, 0.37, 0.38, 0.39, 0.4 ],\n",
              "       [0.41, 0.42, 0.43, 0.44, 0.45, 0.46, 0.47, 0.48, 0.49, 0.5 ],\n",
              "       [0.51, 0.52, 0.53, 0.54, 0.55, 0.56, 0.57, 0.58, 0.59, 0.6 ],\n",
              "       [0.61, 0.62, 0.63, 0.64, 0.65, 0.66, 0.67, 0.68, 0.69, 0.7 ],\n",
              "       [0.71, 0.72, 0.73, 0.74, 0.75, 0.76, 0.77, 0.78, 0.79, 0.8 ],\n",
              "       [0.81, 0.82, 0.83, 0.84, 0.85, 0.86, 0.87, 0.88, 0.89, 0.9 ],\n",
              "       [0.91, 0.92, 0.93, 0.94, 0.95, 0.96, 0.97, 0.98, 0.99, 1.  ]])"
            ]
          },
          "metadata": {},
          "execution_count": 19
        }
      ],
      "source": [
        "np.linspace(0.01, 1, 100).reshape(10, 10)"
      ]
    },
    {
      "cell_type": "markdown",
      "metadata": {
        "id": "NAhHLEEVz3ZS"
      },
      "source": [
        "<div style=\"direction:rtl\">\n",
        "آرایه ای بسازید که شامل 20 تا عدد با فاصله های مساوی بین 0 و 1 باشه."
      ]
    },
    {
      "cell_type": "code",
      "execution_count": 20,
      "metadata": {
        "colab": {
          "base_uri": "https://localhost:8080/"
        },
        "id": "c6VEmGCtz3ZS",
        "outputId": "14fd7b0b-9d3a-48b7-a0e6-7f92c665a990"
      },
      "outputs": [
        {
          "output_type": "execute_result",
          "data": {
            "text/plain": [
              "array([0.        , 0.05263158, 0.10526316, 0.15789474, 0.21052632,\n",
              "       0.26315789, 0.31578947, 0.36842105, 0.42105263, 0.47368421,\n",
              "       0.52631579, 0.57894737, 0.63157895, 0.68421053, 0.73684211,\n",
              "       0.78947368, 0.84210526, 0.89473684, 0.94736842, 1.        ])"
            ]
          },
          "metadata": {},
          "execution_count": 20
        }
      ],
      "source": [
        "np.linspace(0, 1, 20)"
      ]
    },
    {
      "cell_type": "markdown",
      "metadata": {
        "id": "pd3QxmLiz3ZS"
      },
      "source": [
        "<div style=\"direction:rtl\">\n",
        "ابتدا ماتریس زیر را با نام mat بسازید و سپس تکه های خواسته شده از ماتریس در هر بخش را به دست آورید."
      ]
    },
    {
      "cell_type": "code",
      "execution_count": 21,
      "metadata": {
        "id": "Mldy-x-Dz3ZT"
      },
      "outputs": [],
      "source": [
        "mat = np.arange(1, 26).reshape(5, 5)"
      ]
    },
    {
      "cell_type": "code",
      "execution_count": 23,
      "metadata": {
        "colab": {
          "base_uri": "https://localhost:8080/"
        },
        "id": "HQKzPY7Uz3ZT",
        "outputId": "4a8dcc86-ad10-4329-c376-88fc2e3afc20"
      },
      "outputs": [
        {
          "output_type": "execute_result",
          "data": {
            "text/plain": [
              "array([[ 1,  2,  3,  4,  5],\n",
              "       [ 6,  7,  8,  9, 10],\n",
              "       [11, 12, 13, 14, 15],\n",
              "       [16, 17, 18, 19, 20],\n",
              "       [21, 22, 23, 24, 25]])"
            ]
          },
          "metadata": {},
          "execution_count": 23
        }
      ],
      "source": [
        "mat"
      ]
    },
    {
      "cell_type": "code",
      "execution_count": 26,
      "metadata": {
        "colab": {
          "base_uri": "https://localhost:8080/"
        },
        "id": "ju_TScWVz3ZU",
        "outputId": "fa20af44-99ab-4520-d60f-ed85c71d1d16"
      },
      "outputs": [
        {
          "output_type": "execute_result",
          "data": {
            "text/plain": [
              "array([[12, 13, 14, 15],\n",
              "       [17, 18, 19, 20],\n",
              "       [22, 23, 24, 25]])"
            ]
          },
          "metadata": {},
          "execution_count": 26
        }
      ],
      "source": [
        "mat[2::, 1::]"
      ]
    },
    {
      "cell_type": "code",
      "execution_count": 27,
      "metadata": {
        "colab": {
          "base_uri": "https://localhost:8080/"
        },
        "id": "MflI5cp5z3ZU",
        "outputId": "7c2b1847-a0ce-44b6-fff3-27b9e925d02b"
      },
      "outputs": [
        {
          "output_type": "execute_result",
          "data": {
            "text/plain": [
              "20"
            ]
          },
          "metadata": {},
          "execution_count": 27
        }
      ],
      "source": [
        "mat[3][4]"
      ]
    },
    {
      "cell_type": "code",
      "execution_count": 31,
      "metadata": {
        "colab": {
          "base_uri": "https://localhost:8080/"
        },
        "id": "wpOAwd7Tz3ZU",
        "outputId": "7d5d5aec-6b20-4fc8-b5e0-3cadf6bbf11c"
      },
      "outputs": [
        {
          "output_type": "execute_result",
          "data": {
            "text/plain": [
              "array([[ 2],\n",
              "       [ 7],\n",
              "       [12]])"
            ]
          },
          "metadata": {},
          "execution_count": 31
        }
      ],
      "source": [
        "mat[:3, 1].reshape(-1, 1)"
      ]
    },
    {
      "cell_type": "code",
      "execution_count": 32,
      "metadata": {
        "colab": {
          "base_uri": "https://localhost:8080/"
        },
        "id": "g15ncmlaz3ZU",
        "outputId": "3a2de085-70d7-468e-8108-b139262af7a5"
      },
      "outputs": [
        {
          "output_type": "execute_result",
          "data": {
            "text/plain": [
              "array([21, 22, 23, 24, 25])"
            ]
          },
          "metadata": {},
          "execution_count": 32
        }
      ],
      "source": [
        "mat[4]"
      ]
    },
    {
      "cell_type": "code",
      "execution_count": 33,
      "metadata": {
        "colab": {
          "base_uri": "https://localhost:8080/"
        },
        "id": "yQIv7PSEz3ZU",
        "outputId": "01f38678-2957-46e8-b8ff-09817fd26a92"
      },
      "outputs": [
        {
          "output_type": "execute_result",
          "data": {
            "text/plain": [
              "array([[16, 17, 18, 19, 20],\n",
              "       [21, 22, 23, 24, 25]])"
            ]
          },
          "metadata": {},
          "execution_count": 33
        }
      ],
      "source": [
        "mat[3::]"
      ]
    },
    {
      "cell_type": "code",
      "execution_count": 34,
      "metadata": {
        "colab": {
          "base_uri": "https://localhost:8080/"
        },
        "id": "mCADROADz3ZV",
        "outputId": "7f125a0c-004c-4d14-f2d3-02521df32de1"
      },
      "outputs": [
        {
          "output_type": "execute_result",
          "data": {
            "text/plain": [
              "array([[ 1,  2,  3,  4,  5],\n",
              "       [11, 12, 13, 14, 15],\n",
              "       [21, 22, 23, 24, 25]])"
            ]
          },
          "metadata": {},
          "execution_count": 34
        }
      ],
      "source": [
        "mat[[0, 2, 4]]"
      ]
    },
    {
      "cell_type": "code",
      "execution_count": 35,
      "metadata": {
        "colab": {
          "base_uri": "https://localhost:8080/"
        },
        "id": "CLGvkMxRz3ZV",
        "outputId": "e5359f62-107d-4c80-dfcd-5e7f6a668130"
      },
      "outputs": [
        {
          "output_type": "execute_result",
          "data": {
            "text/plain": [
              "array([[ 1,  3,  5],\n",
              "       [ 6,  8, 10],\n",
              "       [11, 13, 15],\n",
              "       [16, 18, 20],\n",
              "       [21, 23, 25]])"
            ]
          },
          "metadata": {},
          "execution_count": 35
        }
      ],
      "source": [
        "mat[:, [0, 2, 4]]"
      ]
    },
    {
      "cell_type": "code",
      "execution_count": 50,
      "metadata": {
        "scrolled": false,
        "colab": {
          "base_uri": "https://localhost:8080/"
        },
        "id": "tNZHcZ08z3ZV",
        "outputId": "8ff92a20-2763-4a71-bb0f-7f3443cbb8ea"
      },
      "outputs": [
        {
          "output_type": "execute_result",
          "data": {
            "text/plain": [
              "array([[ 1,  3,  5],\n",
              "       [11, 13, 15],\n",
              "       [21, 23, 25]])"
            ]
          },
          "metadata": {},
          "execution_count": 50
        }
      ],
      "source": [
        "mat[[0, 2, 4], :][:,[0, 2, 4]]"
      ]
    },
    {
      "cell_type": "markdown",
      "metadata": {
        "id": "vesirb6wz3ZV"
      },
      "source": [
        "<div style=\"direction:rtl\">\n",
        "با مراجعه به بخش fancy از جلسه ی پیش، سعی کنید تکه ماتریس بالا را با روش اول آقای جانفدا هم محاسبه کنید و ایراد آن روش را در پایین بنویسید."
      ]
    },
    {
      "cell_type": "code",
      "execution_count": null,
      "metadata": {
        "scrolled": true,
        "id": "aehPZhduz3ZV",
        "outputId": "8107738b-14a3-4b3d-ef27-0bcb15a770c6"
      },
      "outputs": [
        {
          "data": {
            "text/plain": [
              "array([[ 1, 11, 21],\n",
              "       [ 3, 13, 23],\n",
              "       [ 5, 15, 25]])"
            ]
          },
          "execution_count": 45,
          "metadata": {},
          "output_type": "execute_result"
        }
      ],
      "source": [
        "# This Slice is the Same Code of Above, just Written Like Janfada First Method"
      ]
    },
    {
      "cell_type": "code",
      "source": [
        "mat[[[0], [2], [4]],[0 ,2 ,4]]"
      ],
      "metadata": {
        "colab": {
          "base_uri": "https://localhost:8080/"
        },
        "id": "UGFF3uiVEJ6a",
        "outputId": "93ef6dae-b4f2-4146-b687-7aebe9113ef8"
      },
      "execution_count": 54,
      "outputs": [
        {
          "output_type": "execute_result",
          "data": {
            "text/plain": [
              "array([[ 1,  3,  5],\n",
              "       [11, 13, 15],\n",
              "       [21, 23, 25]])"
            ]
          },
          "metadata": {},
          "execution_count": 54
        }
      ]
    },
    {
      "cell_type": "markdown",
      "metadata": {
        "id": "_bEd1Uq9z3Za"
      },
      "source": [
        "<div style=\"direction:rtl\">\n",
        "تفاوت این روش با روش درست در این است که :..."
      ]
    },
    {
      "cell_type": "markdown",
      "metadata": {
        "id": "Re6iujRez3Zb"
      },
      "source": [
        "<div style=\"direction:rtl\">\n",
        "جمع تک تک عناصر موجود در ماتریس را با استفاده از دو روش (یک بار متد و یک بار فانکشن) به دست آورید."
      ]
    },
    {
      "cell_type": "code",
      "execution_count": 55,
      "metadata": {
        "colab": {
          "base_uri": "https://localhost:8080/"
        },
        "id": "grPSX75rz3Zb",
        "outputId": "c3ac2c9a-8d74-4389-da79-0252885f1ddd"
      },
      "outputs": [
        {
          "output_type": "execute_result",
          "data": {
            "text/plain": [
              "325"
            ]
          },
          "metadata": {},
          "execution_count": 55
        }
      ],
      "source": [
        "def matrix_Sum(matrix):\n",
        "  res = 0\n",
        "  for i in range(len(matrix)):\n",
        "    for j in range(len(matrix[i])):\n",
        "      res += matrix[i][j]\n",
        "  return res\n",
        "\n",
        "matrix_Sum(mat)"
      ]
    },
    {
      "cell_type": "code",
      "execution_count": 56,
      "metadata": {
        "colab": {
          "base_uri": "https://localhost:8080/"
        },
        "id": "gjxPyeprz3Zb",
        "outputId": "29970d11-bbd3-432e-b973-a4cf2d51f9f2"
      },
      "outputs": [
        {
          "output_type": "execute_result",
          "data": {
            "text/plain": [
              "325"
            ]
          },
          "metadata": {},
          "execution_count": 56
        }
      ],
      "source": [
        "np.sum(mat)"
      ]
    },
    {
      "cell_type": "markdown",
      "metadata": {
        "id": "KhSaB7CNz3Zb"
      },
      "source": [
        "<div style=\"direction:rtl\">\n",
        "در آمار ، انحراف معیار، مقدارپراکندگی مجموعه ای از مقادیر است. انحراف استاندارد پایین نشان می دهد که مقادیر نزدیک به میانگین مجموعه هستند ، در حالی که انحراف استاندارد بالا نشان می دهد که مقادیر در دامنه وسیع تری پخش شده اند.\n",
        "انحراف معیار را در ریاضیات با STD یا همان standard deviation نشان می دهند.\n",
        "<div style=\"direction:rtl\">\n",
        "با تحقیق و جست و جو، متدی برای محاسبه ی std در این ماتریس پیدا کنید و انحراف معیار داده های این ماتریس را محاسبه کنید."
      ]
    },
    {
      "cell_type": "code",
      "execution_count": 57,
      "metadata": {
        "colab": {
          "base_uri": "https://localhost:8080/"
        },
        "id": "o9qrvtG2z3Zc",
        "outputId": "a24cbcb8-cce2-47ea-8bbe-baa97caa4680"
      },
      "outputs": [
        {
          "output_type": "execute_result",
          "data": {
            "text/plain": [
              "7.211102550927978"
            ]
          },
          "metadata": {},
          "execution_count": 57
        }
      ],
      "source": [
        "np.std(mat)"
      ]
    },
    {
      "cell_type": "markdown",
      "metadata": {
        "id": "GHNqg63tz3Zc"
      },
      "source": [
        "<div style=\"direction:rtl\">\n",
        "در باره ی axis ها(محور ها) در نامپای تحقیق کنید و axis دیفالت نامپای را معرفی کنید، سپس با کمک axis ها جمع سطر ها وستون های ماتریس را  به دست آورید."
      ]
    },
    {
      "cell_type": "markdown",
      "metadata": {
        "id": "uvTHSdhcz3Zc"
      },
      "source": [
        "<div style=\"direction:rtl\">\n",
        "axis دیفالت نامپای در جهت :None"
      ]
    },
    {
      "cell_type": "markdown",
      "metadata": {
        "id": "R-ExG53ez3Zc"
      },
      "source": [
        "<div style=\"direction:rtl\">\n",
        "جمع سطر ها:\n",
        "(هم با متد هم با فانکشن)"
      ]
    },
    {
      "cell_type": "code",
      "execution_count": 64,
      "metadata": {
        "colab": {
          "base_uri": "https://localhost:8080/"
        },
        "id": "TtYoIAmUz3Zd",
        "outputId": "5e55e987-98f9-4a64-cf95-16a857f18921"
      },
      "outputs": [
        {
          "output_type": "execute_result",
          "data": {
            "text/plain": [
              "[15, 40, 65, 90, 115]"
            ]
          },
          "metadata": {},
          "execution_count": 64
        }
      ],
      "source": [
        "def sumofrows(matrix):\n",
        "  res = []\n",
        "  for i in range(len(matrix)):\n",
        "    res.append(sum(matrix[i]))\n",
        "  return res\n",
        "sumofrows(mat)\n"
      ]
    },
    {
      "cell_type": "code",
      "execution_count": 65,
      "metadata": {
        "colab": {
          "base_uri": "https://localhost:8080/"
        },
        "id": "NClDfEkzz3Zd",
        "outputId": "a71b9c77-6dc9-4fa7-d721-835d252c15cb"
      },
      "outputs": [
        {
          "output_type": "execute_result",
          "data": {
            "text/plain": [
              "array([ 15,  40,  65,  90, 115])"
            ]
          },
          "metadata": {},
          "execution_count": 65
        }
      ],
      "source": [
        "np.sum(mat, axis = 1)"
      ]
    },
    {
      "cell_type": "markdown",
      "metadata": {
        "id": "3u9LroEjz3Ze"
      },
      "source": [
        "<div style=\"direction:rtl\">\n",
        "جمع ستون ها :\n",
        "(هم با متد هم با فانکشن)"
      ]
    },
    {
      "cell_type": "code",
      "execution_count": 68,
      "metadata": {
        "colab": {
          "base_uri": "https://localhost:8080/"
        },
        "id": "gc3buYaSz3Ze",
        "outputId": "e661fce4-f109-4609-c9a4-cbc2a77d62dd"
      },
      "outputs": [
        {
          "output_type": "execute_result",
          "data": {
            "text/plain": [
              "[55, 60, 65, 70, 75]"
            ]
          },
          "metadata": {},
          "execution_count": 68
        }
      ],
      "source": [
        "def sumofcolumns(matrix):\n",
        "  res = []\n",
        "  for i in range(len(matrix.transpose())):\n",
        "    res.append(sum(matrix.transpose()[i]))\n",
        "  return res\n",
        "sumofcolumns(mat)"
      ]
    },
    {
      "cell_type": "code",
      "execution_count": 69,
      "metadata": {
        "colab": {
          "base_uri": "https://localhost:8080/"
        },
        "id": "mZps5dkrz3Ze",
        "outputId": "7e0ab46e-8c58-43f5-d479-c3a49acfb0c9"
      },
      "outputs": [
        {
          "output_type": "execute_result",
          "data": {
            "text/plain": [
              "array([55, 60, 65, 70, 75])"
            ]
          },
          "metadata": {},
          "execution_count": 69
        }
      ],
      "source": [
        "np.sum(mat, axis = 0)"
      ]
    },
    {
      "cell_type": "markdown",
      "metadata": {
        "id": "cyxxJHvcz3Ze"
      },
      "source": [
        "<div style=\"direction:rtl\">\n",
        "حالا با کمک مفهومی که از محور ها در عملیات های نامپای فرا گرفته اید، سعی کنید با دستور concatenate دو ماتریس زیر را یک بار در جهت محور عمودی و یک بار در جهت محور افقی بهم بچسبانید."
      ]
    },
    {
      "cell_type": "code",
      "execution_count": 70,
      "metadata": {
        "colab": {
          "base_uri": "https://localhost:8080/"
        },
        "id": "0lMDbI_Dz3Zf",
        "outputId": "12725c16-90c4-4a49-f1a3-7550dfbd57c9"
      },
      "outputs": [
        {
          "output_type": "execute_result",
          "data": {
            "text/plain": [
              "array([[1, 2, 3],\n",
              "       [4, 5, 6],\n",
              "       [7, 8, 9]])"
            ]
          },
          "metadata": {},
          "execution_count": 70
        }
      ],
      "source": [
        "a = np.arange(1,10).reshape(3,3)\n",
        "a"
      ]
    },
    {
      "cell_type": "code",
      "execution_count": 71,
      "metadata": {
        "colab": {
          "base_uri": "https://localhost:8080/"
        },
        "id": "rvHcPfsfz3Zf",
        "outputId": "78c4fd33-ef50-47c4-9921-c78800da2419"
      },
      "outputs": [
        {
          "output_type": "execute_result",
          "data": {
            "text/plain": [
              "array([[1, 4, 7],\n",
              "       [2, 5, 8],\n",
              "       [3, 6, 9]])"
            ]
          },
          "metadata": {},
          "execution_count": 71
        }
      ],
      "source": [
        "b = np.arange(1,10).reshape(3,3).transpose()\n",
        "b"
      ]
    },
    {
      "cell_type": "markdown",
      "metadata": {
        "id": "taxyTqfiz3Zf"
      },
      "source": [
        "<div style=\"direction:rtl\">\n",
        "چسباندن در راستای افقی:"
      ]
    },
    {
      "cell_type": "code",
      "execution_count": 75,
      "metadata": {
        "colab": {
          "base_uri": "https://localhost:8080/"
        },
        "id": "0oU9U33zz3Zg",
        "outputId": "9c00a6e0-f53e-4e91-c192-7f1cac7f5f91"
      },
      "outputs": [
        {
          "output_type": "execute_result",
          "data": {
            "text/plain": [
              "array([[1, 2, 3, 1, 4, 7],\n",
              "       [4, 5, 6, 2, 5, 8],\n",
              "       [7, 8, 9, 3, 6, 9]])"
            ]
          },
          "metadata": {},
          "execution_count": 75
        }
      ],
      "source": [
        "np.concatenate((a, b), 1)"
      ]
    },
    {
      "cell_type": "markdown",
      "metadata": {
        "id": "4-MzJgZoz3Zg"
      },
      "source": [
        "<div style=\"direction:rtl\">\n",
        "چسباندن در راستای عمودی:"
      ]
    },
    {
      "cell_type": "code",
      "execution_count": 76,
      "metadata": {
        "scrolled": true,
        "colab": {
          "base_uri": "https://localhost:8080/"
        },
        "id": "9M5-Cr2rz3Zg",
        "outputId": "5ec5792e-c699-4283-c62a-fd6f8813f4e1"
      },
      "outputs": [
        {
          "output_type": "execute_result",
          "data": {
            "text/plain": [
              "array([[1, 2, 3],\n",
              "       [4, 5, 6],\n",
              "       [7, 8, 9],\n",
              "       [1, 4, 7],\n",
              "       [2, 5, 8],\n",
              "       [3, 6, 9]])"
            ]
          },
          "metadata": {},
          "execution_count": 76
        }
      ],
      "source": [
        "np.concatenate((a, b), 0)"
      ]
    },
    {
      "cell_type": "markdown",
      "metadata": {
        "id": "m69t0eaLz3Zg"
      },
      "source": [
        "<div style=\"direction:rtl\">\n",
        "\n",
        "## موفق باشید."
      ]
    }
  ],
  "metadata": {
    "kernelspec": {
      "display_name": "Python 3",
      "language": "python",
      "name": "python3"
    },
    "language_info": {
      "codemirror_mode": {
        "name": "ipython",
        "version": 3
      },
      "file_extension": ".py",
      "mimetype": "text/x-python",
      "name": "python",
      "nbconvert_exporter": "python",
      "pygments_lexer": "ipython3",
      "version": "3.7.6"
    },
    "colab": {
      "provenance": [],
      "toc_visible": true
    }
  },
  "nbformat": 4,
  "nbformat_minor": 0
}